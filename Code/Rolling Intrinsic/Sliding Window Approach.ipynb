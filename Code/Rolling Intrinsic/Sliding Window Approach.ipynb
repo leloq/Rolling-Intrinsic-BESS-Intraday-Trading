{
 "cells": [
  {
   "cell_type": "code",
   "execution_count": 28,
   "metadata": {},
   "outputs": [
    {
     "name": "stdout",
     "output_type": "stream",
     "text": [
      "66161.58021699998\n"
     ]
    }
   ],
   "source": [
    "import psycopg2\n",
    "from datetime import date, timedelta\n",
    "\n",
    "def get_optimal_params(start_date, end_date, conn):\n",
    "    \"\"\"\n",
    "    Retrieve the optimal parameters between start_date and end_date.\n",
    "    \"\"\"\n",
    "    query = \"\"\"\n",
    "        SELECT threshold, threshold_abs, discount_rate\n",
    "        FROM (\n",
    "            SELECT threshold, threshold_abs, discount_rate, SUM(daily_profit) as total_profit\n",
    "            FROM (\n",
    "                SELECT threshold, threshold_abs, discount_rate, day, SUM(profit) as daily_profit\n",
    "                FROM revenues_1_cycle_max_h\n",
    "                WHERE day BETWEEN %s AND %s\n",
    "                GROUP BY day, threshold, threshold_abs, discount_rate\n",
    "            ) AS day_aggregated\n",
    "            GROUP BY threshold, threshold_abs, discount_rate\n",
    "        ) AS param_aggregated\n",
    "        ORDER BY total_profit DESC\n",
    "        LIMIT 1;\n",
    "    \"\"\"\n",
    "    with conn.cursor() as cursor:\n",
    "        cursor.execute(query, (start_date, end_date))\n",
    "        result = cursor.fetchone()\n",
    "        return result\n",
    "\n",
    "def get_profit_with_params(start_date, end_date, threshold, threshold_abs, discount_rate, conn):\n",
    "    \"\"\"\n",
    "    Retrieve the total profit between start_date and end_date using given trading parameters.\n",
    "    \"\"\"\n",
    "    query = \"\"\"\n",
    "        SELECT SUM(daily_profit)\n",
    "        FROM (\n",
    "            SELECT day, SUM(profit) as daily_profit\n",
    "            FROM revenues_1_cycle_max_h\n",
    "            WHERE day BETWEEN %s AND %s AND threshold = %s AND threshold_abs = %s AND discount_rate = %s\n",
    "            GROUP BY day\n",
    "        ) AS aggregated;\n",
    "    \"\"\"\n",
    "    with conn.cursor() as cursor:\n",
    "        cursor.execute(query, (start_date, end_date, threshold, threshold_abs, discount_rate))\n",
    "        result = cursor.fetchone()\n",
    "        # Check if result is None and return 0, otherwise return the result\n",
    "        if result is None:\n",
    "            print(\"Result is None\")\n",
    "\n",
    "        return result[0] if result and result[0] is not None else 0\n",
    "\n",
    "\n",
    "def simulate_trading(number_of_days, year, conn):\n",
    "    start_date = date(year - 1, 12, 31) - timedelta(days=number_of_days-1)\n",
    "    end_date = start_date + timedelta(days=number_of_days-1)\n",
    "    last_day_of_year = date(year, 12, 31)\n",
    "\n",
    "    total_profit = 0\n",
    "\n",
    "    while end_date <= last_day_of_year:\n",
    "        # Find optimal parameters for the last `number_of_days` days\n",
    "        threshold, threshold_abs, discount_rate = get_optimal_params(start_date, end_date, conn)\n",
    "\n",
    "        # Compute profit for the next `number_of_days` days using optimal parameters\n",
    "        profit_start_date = end_date + timedelta(days=1)\n",
    "        profit_end_date = profit_start_date + timedelta(days=number_of_days-1)\n",
    "        total_profit += get_profit_with_params(profit_start_date, profit_end_date, threshold, threshold_abs, discount_rate, conn)\n",
    "\n",
    "        # Slide the window\n",
    "        start_date = profit_start_date\n",
    "        end_date = profit_end_date\n",
    "\n",
    "    return total_profit\n",
    "\n",
    "\n",
    "CONNECTION = \"\"\n",
    "conn = psycopg2.connect(CONNECTION)\n",
    "cursor = conn.cursor()\n",
    "cursor.execute(\"ROLLBACK\")\n",
    "\n",
    "profit = simulate_trading(1, 2022, conn)\n",
    "print(profit)"
   ]
  },
  {
   "cell_type": "code",
   "execution_count": null,
   "metadata": {},
   "outputs": [],
   "source": []
  }
 ],
 "metadata": {
  "kernelspec": {
   "display_name": "Python 3",
   "language": "python",
   "name": "python3"
  },
  "language_info": {
   "codemirror_mode": {
    "name": "ipython",
    "version": 3
   },
   "file_extension": ".py",
   "mimetype": "text/x-python",
   "name": "python",
   "nbconvert_exporter": "python",
   "pygments_lexer": "ipython3",
   "version": "3.8.8"
  }
 },
 "nbformat": 4,
 "nbformat_minor": 2
}
